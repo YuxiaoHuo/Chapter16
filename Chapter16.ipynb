{
  "nbformat": 4,
  "nbformat_minor": 0,
  "metadata": {
    "colab": {
      "name": "Chapter16.ipynb",
      "provenance": [],
      "collapsed_sections": []
    },
    "kernelspec": {
      "name": "python3",
      "display_name": "Python 3"
    }
  },
  "cells": [
    {
      "cell_type": "code",
      "metadata": {
        "id": "r3Rdpinn2nJh",
        "colab_type": "code",
        "colab": {
          "base_uri": "https://localhost:8080/",
          "height": 219
        },
        "outputId": "e8922f9a-4508-4288-f424-1acb7dac38be"
      },
      "source": [
        "pip install yfinance"
      ],
      "execution_count": null,
      "outputs": [
        {
          "output_type": "stream",
          "text": [
            "Requirement already satisfied: yfinance in /usr/local/lib/python3.6/dist-packages (0.1.54)\n",
            "Requirement already satisfied: requests>=2.20 in /usr/local/lib/python3.6/dist-packages (from yfinance) (2.23.0)\n",
            "Requirement already satisfied: pandas>=0.24 in /usr/local/lib/python3.6/dist-packages (from yfinance) (1.0.5)\n",
            "Requirement already satisfied: numpy>=1.15 in /usr/local/lib/python3.6/dist-packages (from yfinance) (1.18.5)\n",
            "Requirement already satisfied: multitasking>=0.0.7 in /usr/local/lib/python3.6/dist-packages (from yfinance) (0.0.9)\n",
            "Requirement already satisfied: urllib3!=1.25.0,!=1.25.1,<1.26,>=1.21.1 in /usr/local/lib/python3.6/dist-packages (from requests>=2.20->yfinance) (1.24.3)\n",
            "Requirement already satisfied: chardet<4,>=3.0.2 in /usr/local/lib/python3.6/dist-packages (from requests>=2.20->yfinance) (3.0.4)\n",
            "Requirement already satisfied: certifi>=2017.4.17 in /usr/local/lib/python3.6/dist-packages (from requests>=2.20->yfinance) (2020.4.5.2)\n",
            "Requirement already satisfied: idna<3,>=2.5 in /usr/local/lib/python3.6/dist-packages (from requests>=2.20->yfinance) (2.9)\n",
            "Requirement already satisfied: pytz>=2017.2 in /usr/local/lib/python3.6/dist-packages (from pandas>=0.24->yfinance) (2018.9)\n",
            "Requirement already satisfied: python-dateutil>=2.6.1 in /usr/local/lib/python3.6/dist-packages (from pandas>=0.24->yfinance) (2.8.1)\n",
            "Requirement already satisfied: six>=1.5 in /usr/local/lib/python3.6/dist-packages (from python-dateutil>=2.6.1->pandas>=0.24->yfinance) (1.12.0)\n"
          ],
          "name": "stdout"
        }
      ]
    },
    {
      "cell_type": "code",
      "metadata": {
        "id": "SW07zi3h2taF",
        "colab_type": "code",
        "colab": {
          "base_uri": "https://localhost:8080/",
          "height": 34
        },
        "outputId": "77461b69-c883-4b4f-934e-e46aafc3a442"
      },
      "source": [
        "pip install yahoo_fin"
      ],
      "execution_count": null,
      "outputs": [
        {
          "output_type": "stream",
          "text": [
            "Requirement already satisfied: yahoo_fin in /usr/local/lib/python3.6/dist-packages (0.8.5)\n"
          ],
          "name": "stdout"
        }
      ]
    },
    {
      "cell_type": "code",
      "metadata": {
        "id": "j0e2g4Pm2xX7",
        "colab_type": "code",
        "colab": {
          "base_uri": "https://localhost:8080/",
          "height": 592
        },
        "outputId": "730e9ae0-98d7-4532-8700-17d7327d48e8"
      },
      "source": [
        "pip install requests_html"
      ],
      "execution_count": null,
      "outputs": [
        {
          "output_type": "stream",
          "text": [
            "Requirement already satisfied: requests_html in /usr/local/lib/python3.6/dist-packages (0.10.0)\n",
            "Requirement already satisfied: pyquery in /usr/local/lib/python3.6/dist-packages (from requests_html) (1.4.1)\n",
            "Requirement already satisfied: w3lib in /usr/local/lib/python3.6/dist-packages (from requests_html) (1.22.0)\n",
            "Requirement already satisfied: parse in /usr/local/lib/python3.6/dist-packages (from requests_html) (1.15.0)\n",
            "Requirement already satisfied: fake-useragent in /usr/local/lib/python3.6/dist-packages (from requests_html) (0.1.11)\n",
            "Requirement already satisfied: pyppeteer>=0.0.14 in /usr/local/lib/python3.6/dist-packages (from requests_html) (0.2.2)\n",
            "Requirement already satisfied: requests in /usr/local/lib/python3.6/dist-packages (from requests_html) (2.23.0)\n",
            "Requirement already satisfied: bs4 in /usr/local/lib/python3.6/dist-packages (from requests_html) (0.0.1)\n",
            "Requirement already satisfied: lxml>=2.1 in /usr/local/lib/python3.6/dist-packages (from pyquery->requests_html) (4.2.6)\n",
            "Requirement already satisfied: cssselect>0.7.9 in /usr/local/lib/python3.6/dist-packages (from pyquery->requests_html) (1.1.0)\n",
            "Requirement already satisfied: six>=1.4.1 in /usr/local/lib/python3.6/dist-packages (from w3lib->requests_html) (1.12.0)\n",
            "Collecting urllib3<2.0.0,>=1.25.8\n",
            "\u001b[?25l  Downloading https://files.pythonhosted.org/packages/e1/e5/df302e8017440f111c11cc41a6b432838672f5a70aa29227bf58149dc72f/urllib3-1.25.9-py2.py3-none-any.whl (126kB)\n",
            "\u001b[K     |████████████████████████████████| 133kB 2.8MB/s \n",
            "\u001b[?25hRequirement already satisfied: pyee<8.0.0,>=7.0.1 in /usr/local/lib/python3.6/dist-packages (from pyppeteer>=0.0.14->requests_html) (7.0.2)\n",
            "Requirement already satisfied: appdirs<2.0.0,>=1.4.3 in /usr/local/lib/python3.6/dist-packages (from pyppeteer>=0.0.14->requests_html) (1.4.4)\n",
            "Requirement already satisfied: websockets<9.0,>=8.1 in /usr/local/lib/python3.6/dist-packages (from pyppeteer>=0.0.14->requests_html) (8.1)\n",
            "Requirement already satisfied: tqdm<5.0.0,>=4.42.1 in /usr/local/lib/python3.6/dist-packages (from pyppeteer>=0.0.14->requests_html) (4.46.1)\n",
            "Requirement already satisfied: chardet<4,>=3.0.2 in /usr/local/lib/python3.6/dist-packages (from requests->requests_html) (3.0.4)\n",
            "Requirement already satisfied: certifi>=2017.4.17 in /usr/local/lib/python3.6/dist-packages (from requests->requests_html) (2020.4.5.2)\n",
            "Requirement already satisfied: idna<3,>=2.5 in /usr/local/lib/python3.6/dist-packages (from requests->requests_html) (2.9)\n",
            "Requirement already satisfied: beautifulsoup4 in /usr/local/lib/python3.6/dist-packages (from bs4->requests_html) (4.6.3)\n",
            "\u001b[31mERROR: kaggle 1.5.6 has requirement urllib3<1.25,>=1.21.1, but you'll have urllib3 1.25.9 which is incompatible.\u001b[0m\n",
            "\u001b[31mERROR: datascience 0.10.6 has requirement folium==0.2.1, but you'll have folium 0.8.3 which is incompatible.\u001b[0m\n",
            "Installing collected packages: urllib3\n",
            "  Found existing installation: urllib3 1.24.3\n",
            "    Uninstalling urllib3-1.24.3:\n",
            "      Successfully uninstalled urllib3-1.24.3\n",
            "Successfully installed urllib3-1.25.9\n"
          ],
          "name": "stdout"
        },
        {
          "output_type": "display_data",
          "data": {
            "application/vnd.colab-display-data+json": {
              "pip_warning": {
                "packages": [
                  "urllib3"
                ]
              }
            }
          },
          "metadata": {
            "tags": []
          }
        }
      ]
    },
    {
      "cell_type": "code",
      "metadata": {
        "id": "04tJJFWt210M",
        "colab_type": "code",
        "colab": {
          "base_uri": "https://localhost:8080/",
          "height": 101
        },
        "outputId": "468d4709-1c9e-4131-a15e-e2929d94a09b"
      },
      "source": [
        "pip install requests"
      ],
      "execution_count": null,
      "outputs": [
        {
          "output_type": "stream",
          "text": [
            "Requirement already satisfied: requests in /usr/local/lib/python3.6/dist-packages (2.23.0)\n",
            "Requirement already satisfied: idna<3,>=2.5 in /usr/local/lib/python3.6/dist-packages (from requests) (2.9)\n",
            "Requirement already satisfied: certifi>=2017.4.17 in /usr/local/lib/python3.6/dist-packages (from requests) (2020.4.5.2)\n",
            "Requirement already satisfied: chardet<4,>=3.0.2 in /usr/local/lib/python3.6/dist-packages (from requests) (3.0.4)\n",
            "Requirement already satisfied: urllib3!=1.25.0,!=1.25.1,<1.26,>=1.21.1 in /usr/local/lib/python3.6/dist-packages (from requests) (1.25.9)\n"
          ],
          "name": "stdout"
        }
      ]
    },
    {
      "cell_type": "code",
      "metadata": {
        "id": "PIqFxJSy26lw",
        "colab_type": "code",
        "colab": {
          "base_uri": "https://localhost:8080/",
          "height": 50
        },
        "outputId": "2d32ae38-84d5-455e-a2e1-724b878c683b"
      },
      "source": [
        "pip install bs4"
      ],
      "execution_count": null,
      "outputs": [
        {
          "output_type": "stream",
          "text": [
            "Requirement already satisfied: bs4 in /usr/local/lib/python3.6/dist-packages (0.0.1)\n",
            "Requirement already satisfied: beautifulsoup4 in /usr/local/lib/python3.6/dist-packages (from bs4) (4.6.3)\n"
          ],
          "name": "stdout"
        }
      ]
    },
    {
      "cell_type": "code",
      "metadata": {
        "id": "60sCmi6g29lD",
        "colab_type": "code",
        "colab": {}
      },
      "source": [
        "!pip install -U -q PyDrive"
      ],
      "execution_count": null,
      "outputs": []
    },
    {
      "cell_type": "code",
      "metadata": {
        "id": "792FkAel3BdS",
        "colab_type": "code",
        "colab": {}
      },
      "source": [
        "import yfinance as yf\n",
        "import matplotlib.pyplot as plt\n",
        "import numpy as np\n",
        "import pandas as pd\n",
        "from scipy.stats import kurtosis, skew\n",
        "from tabulate import tabulate\n",
        "import datetime as dt#get current date\n",
        "import statsmodels.api as sm\n",
        "from statsmodels.formula.api import ols\n",
        "from statsmodels.stats.anova import anova_lm\n",
        "from yahoo_fin.stock_info import get_quote_table\n",
        "import requests\n",
        "from bs4 import BeautifulSoup\n",
        "import matplotlib.ticker as mtick\n",
        "from google.colab import files\n",
        "from pydrive.auth import GoogleAuth\n",
        "from pydrive.drive import GoogleDrive\n",
        "from google.colab import auth\n",
        "from oauth2client.client import GoogleCredentials"
      ],
      "execution_count": null,
      "outputs": []
    },
    {
      "cell_type": "code",
      "metadata": {
        "id": "XZv1Fkg13FLK",
        "colab_type": "code",
        "colab": {}
      },
      "source": [
        "def Usr_input():\n",
        "  previousday = dt.date.today()-dt.timedelta(days=1)# get the date of previous day\n",
        "  Default_end = previousday.strftime(\"%Y-%m-%d\") # change the format of the default datetime \n",
        "  years_ago = dt.date.today()-dt.timedelta(days=(5 * 365) + 30)\n",
        "  Default_start = years_ago.strftime(\"%Y-%m-%d\")\n",
        "  Ticker = input('Please enter ticker(Default = JNJ)-->') or 'JNJ'\n",
        "  Start = input('Enter start date(' + 'Default = 5 Years ago, ' + Default_start + ')-->') or Default_start\n",
        "  End = input('Enter end date(Default = Yesterday, ' + Default_end + ')-->') or Default_end\n",
        "  T_interval = input('Enter date interval(1d,1wk,1mo Default = 1mo)-->') or '1mo'\n",
        "  return Ticker, Start, End, T_interval"
      ],
      "execution_count": null,
      "outputs": []
    },
    {
      "cell_type": "code",
      "metadata": {
        "id": "AozQqn8R3H1j",
        "colab_type": "code",
        "colab": {}
      },
      "source": [
        "def calculate_ret(stock_a,stock_M,start,end_t,T_interval):\n",
        "  Stock_price_a = yf.download(stock_a,start=start,end=end_t,interval = T_interval)['Adj Close'].dropna()\n",
        "  Ret_a = Stock_price_a.pct_change()[1:]\n",
        "  Stock_price_M = yf.download(stock_M,start=start,end=end_t,interval = T_interval)['Adj Close'].dropna()\n",
        "  Ret_M = Stock_price_M.pct_change()[1:]\n",
        "  Ret = pd.DataFrame([Ret_a,Ret_M])\n",
        "  Ret = Ret.T\n",
        "  Ret.columns = [stock_a,'SNP']\n",
        "  return Ret"
      ],
      "execution_count": null,
      "outputs": []
    },
    {
      "cell_type": "code",
      "metadata": {
        "id": "XhlJrBa33KXy",
        "colab_type": "code",
        "colab": {}
      },
      "source": [
        "def html_beautifulsoup(url):\n",
        "    response = requests.get(url)\n",
        "    html = response.content\n",
        "\n",
        "    #beautifulsoup html will not look like soure\n",
        "    #review beautifulsoup html to use find and findall\n",
        "    soup = BeautifulSoup(html,\"lxml\")\n",
        "    return soup\n",
        "\n",
        "#soup_html: soup html is not same as source html\n",
        "def yahoo_description(soup_html):\n",
        "    element = soup_html.find('h1',class_='D(ib) Fz(16px) Lh(18px)')\n",
        "    return element.text"
      ],
      "execution_count": null,
      "outputs": []
    },
    {
      "cell_type": "code",
      "metadata": {
        "id": "FmOnEG1P3Me4",
        "colab_type": "code",
        "colab": {
          "base_uri": "https://localhost:8080/",
          "height": 84
        },
        "outputId": "284331d8-4ad0-490b-8352-39f0e4e38353"
      },
      "source": [
        "(Ticker,macro_start,macro_end,macro_T_interval) = Usr_input()\n",
        "soup_html = html_beautifulsoup(\"https://finance.yahoo.com/quote/\"  +Ticker)\n",
        "Ticker_shortN = yahoo_description(soup_html)"
      ],
      "execution_count": null,
      "outputs": [
        {
          "output_type": "stream",
          "text": [
            "Please enter ticker(Default = JNJ)-->FB\n",
            "Enter start date(Default = 5 Years ago, 2015-05-28)-->2016-09-23\n",
            "Enter end date(Default = Yesterday, 2020-06-24)-->2019-08-08\n",
            "Enter date interval(1d,1wk,1mo Default = 1mo)-->1d\n"
          ],
          "name": "stdout"
        }
      ]
    },
    {
      "cell_type": "code",
      "metadata": {
        "id": "cJ81DepC3TMe",
        "colab_type": "code",
        "colab": {
          "base_uri": "https://localhost:8080/",
          "height": 489
        },
        "outputId": "43cc0e4f-91a5-4974-a306-280db31a4264"
      },
      "source": [
        "ret = calculate_ret(Ticker,'^GSPC',macro_start,macro_end,macro_T_interval)\n",
        "ret_M = ret['SNP']\n",
        "ret_a = ret[Ticker]\n",
        "\n",
        "ret_Mc = sm.add_constant(ret_M)\n",
        "results = sm.OLS(ret_a,ret_Mc).fit()\n",
        "print('                                 Market Model')\n",
        "print(results.summary())"
      ],
      "execution_count": null,
      "outputs": [
        {
          "output_type": "stream",
          "text": [
            "[*********************100%***********************]  1 of 1 completed\n",
            "[*********************100%***********************]  1 of 1 completed\n",
            "                                 Market Model\n",
            "                            OLS Regression Results                            \n",
            "==============================================================================\n",
            "Dep. Variable:                     FB   R-squared:                       0.301\n",
            "Model:                            OLS   Adj. R-squared:                  0.300\n",
            "Method:                 Least Squares   F-statistic:                     310.2\n",
            "Date:                Thu, 25 Jun 2020   Prob (F-statistic):           5.33e-58\n",
            "Time:                        00:57:07   Log-Likelihood:                 1987.9\n",
            "No. Observations:                 721   AIC:                            -3972.\n",
            "Df Residuals:                     719   BIC:                            -3963.\n",
            "Df Model:                           1                                         \n",
            "Covariance Type:            nonrobust                                         \n",
            "==============================================================================\n",
            "                 coef    std err          t      P>|t|      [0.025      0.975]\n",
            "------------------------------------------------------------------------------\n",
            "const          0.0001      0.001      0.239      0.811      -0.001       0.001\n",
            "SNP            1.2753      0.072     17.614      0.000       1.133       1.417\n",
            "==============================================================================\n",
            "Omnibus:                      473.351   Durbin-Watson:                   1.998\n",
            "Prob(Omnibus):                  0.000   Jarque-Bera (JB):            33322.957\n",
            "Skew:                          -2.171   Prob(JB):                         0.00\n",
            "Kurtosis:                      36.021   Cond. No.                         126.\n",
            "==============================================================================\n",
            "\n",
            "Warnings:\n",
            "[1] Standard Errors assume that the covariance matrix of the errors is correctly specified.\n"
          ],
          "name": "stdout"
        }
      ]
    },
    {
      "cell_type": "code",
      "metadata": {
        "id": "_liqFRdu6rya",
        "colab_type": "code",
        "colab": {
          "base_uri": "https://localhost:8080/",
          "height": 34
        },
        "outputId": "eafeb0b9-9667-4ef3-b5f9-6559e9560a77"
      },
      "source": [
        "DW = np.sum( np.diff( results.resid.values )**2.0 ) / results.ssr\n",
        "DW = round(DW, 3)\n",
        "print(DW)"
      ],
      "execution_count": null,
      "outputs": [
        {
          "output_type": "stream",
          "text": [
            "1.998\n"
          ],
          "name": "stdout"
        }
      ]
    },
    {
      "cell_type": "code",
      "metadata": {
        "id": "K16LSeOX7kEJ",
        "colab_type": "code",
        "colab": {
          "base_uri": "https://localhost:8080/",
          "height": 50
        },
        "outputId": "f311a9a4-77ec-44be-a767-acd3ecf7c08c"
      },
      "source": [
        "##Using significant level as 5 %, we find that dL is 1.20 and dU is 1.41.\n",
        "dL = 1.2\n",
        "dU = 1.41\n",
        "\n",
        "if DW >0 and DW < dL:\n",
        "  print(\"Durbin-Watson statistic(DW) is \" + str(DW) + \" , we have dL as 1.2, dU as 1.41. \\nBecause DW value is greater than zero and less than dL, our test result is positive correlation\")\n",
        "elif DW > dL and DW < dU:\n",
        "  print(\"Durbin-Watson statistic(DW) is \" + str(DW) + \" , we have dL as 1.2, dU as 1.41. \\nBecause DW value is greater than dL and less than dU, our test result is inconclusive\")\n",
        "elif DW > dU and DW < 4 - dU:\n",
        "  print(\"Durbin-Watson statistic(DW) is \" + str(DW) + \" , we have dL as 1.2, dU as 1.41. \\nBecause DW value is greater than dU and less than 4 - dU, our test result is no correlation\")\n",
        "elif DW > 4 - dU and DW < 4 - dL:\n",
        "  print(\"Durbin-Watson statistic(DW) is \" + str(DW) + \" , we have dL as 1.2, dU as 1.41. \\nBecause DW value is greater than 4 - dU and less than 4 - dL, our test result is inconclusive\")\n",
        "else:\n",
        "  print(\"Durbin-Watson statistic(DW) is \" + str(DW) + \" , we have dL as 1.2, dU as 1.41. \\nBecause DW value is greater than 4 - dL and less than 4, our test result is negative correlation\")"
      ],
      "execution_count": 52,
      "outputs": [
        {
          "output_type": "stream",
          "text": [
            "Durbin-Watson statistic(DW) is 1.998 , we have dL as 1.2, dU as 1.41. \n",
            "Because DW value is greater than dU and less than 4 - dU, our test result is no correlation\n"
          ],
          "name": "stdout"
        }
      ]
    },
    {
      "cell_type": "code",
      "metadata": {
        "id": "Mxn5SgoB6o2G",
        "colab_type": "code",
        "colab": {}
      },
      "source": [
        ""
      ],
      "execution_count": null,
      "outputs": []
    }
  ]
}